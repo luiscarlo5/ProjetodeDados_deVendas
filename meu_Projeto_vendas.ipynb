{
  "nbformat": 4,
  "nbformat_minor": 0,
  "metadata": {
    "colab": {
      "provenance": [],
      "authorship_tag": "ABX9TyPrP31kvb8CiZW/8KdzXyWi",
      "include_colab_link": true
    },
    "kernelspec": {
      "name": "python3",
      "display_name": "Python 3"
    },
    "language_info": {
      "name": "python"
    }
  },
  "cells": [
    {
      "cell_type": "markdown",
      "metadata": {
        "id": "view-in-github",
        "colab_type": "text"
      },
      "source": [
        "<a href=\"https://colab.research.google.com/github/luiscarlo5/ProjetodeDados_deVendas/blob/main/meu_Projeto_vendas.ipynb\" target=\"_parent\"><img src=\"https://colab.research.google.com/assets/colab-badge.svg\" alt=\"Open In Colab\"/></a>"
      ]
    },
    {
      "cell_type": "code",
      "execution_count": null,
      "metadata": {
        "id": "ayiyCtFbu2-M"
      },
      "outputs": [],
      "source": [
        "import pandas as pd\n",
        "\n",
        "# Abrir o arquivo CSV\n",
        "nome_arquivo = 'dados.csv'\n",
        "df = pd.read_csv(nome_arquivo)\n",
        "\n",
        "# Ordenar as linhas com base em uma coluna específica\n",
        "coluna_ordenacao = 'nome'\n",
        "df = df.sort_values(by=coluna_ordenacao)\n",
        "\n",
        "# Preencher campos vazios com o valor anterior\n",
        "coluna_preenchimento = 'idade'\n",
        "df[coluna_preenchimento] = df[coluna_preenchimento].fillna(method='ffill')\n",
        "\n",
        "# Exibir o DataFrame resultante\n",
        "print(df)\n"
      ]
    }
  ]
}